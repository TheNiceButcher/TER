{
 "cells": [
  {
   "cell_type": "code",
   "execution_count": 3,
   "metadata": {
    "colab": {
     "base_uri": "https://localhost:8080/"
    },
    "id": "zaPPiMOD6fLW",
    "outputId": "cb13e2b0-b48b-467b-c904-958a2344cbe8"
   },
   "outputs": [
    {
     "name": "stdout",
     "output_type": "stream",
     "text": [
      "Collecting shap\n",
      "  Downloading shap-0.40.0-cp37-cp37m-manylinux2010_x86_64.whl (564 kB)\n",
      "\u001b[?25l\r",
      "\u001b[K     |▋                               | 10 kB 24.8 MB/s eta 0:00:01\r",
      "\u001b[K     |█▏                              | 20 kB 25.4 MB/s eta 0:00:01\r",
      "\u001b[K     |█▊                              | 30 kB 29.5 MB/s eta 0:00:01\r",
      "\u001b[K     |██▎                             | 40 kB 31.9 MB/s eta 0:00:01\r",
      "\u001b[K     |███                             | 51 kB 20.9 MB/s eta 0:00:01\r",
      "\u001b[K     |███▌                            | 61 kB 22.7 MB/s eta 0:00:01\r",
      "\u001b[K     |████                            | 71 kB 22.9 MB/s eta 0:00:01\r",
      "\u001b[K     |████▋                           | 81 kB 19.8 MB/s eta 0:00:01\r",
      "\u001b[K     |█████▏                          | 92 kB 21.4 MB/s eta 0:00:01\r",
      "\u001b[K     |█████▉                          | 102 kB 23.0 MB/s eta 0:00:01\r",
      "\u001b[K     |██████▍                         | 112 kB 23.0 MB/s eta 0:00:01\r",
      "\u001b[K     |███████                         | 122 kB 23.0 MB/s eta 0:00:01\r",
      "\u001b[K     |███████▌                        | 133 kB 23.0 MB/s eta 0:00:01\r",
      "\u001b[K     |████████▏                       | 143 kB 23.0 MB/s eta 0:00:01\r",
      "\u001b[K     |████████▊                       | 153 kB 23.0 MB/s eta 0:00:01\r",
      "\u001b[K     |█████████▎                      | 163 kB 23.0 MB/s eta 0:00:01\r",
      "\u001b[K     |█████████▉                      | 174 kB 23.0 MB/s eta 0:00:01\r",
      "\u001b[K     |██████████▍                     | 184 kB 23.0 MB/s eta 0:00:01\r",
      "\u001b[K     |███████████                     | 194 kB 23.0 MB/s eta 0:00:01\r",
      "\u001b[K     |███████████▋                    | 204 kB 23.0 MB/s eta 0:00:01\r",
      "\u001b[K     |████████████▏                   | 215 kB 23.0 MB/s eta 0:00:01\r",
      "\u001b[K     |████████████▊                   | 225 kB 23.0 MB/s eta 0:00:01\r",
      "\u001b[K     |█████████████▍                  | 235 kB 23.0 MB/s eta 0:00:01\r",
      "\u001b[K     |██████████████                  | 245 kB 23.0 MB/s eta 0:00:01\r",
      "\u001b[K     |██████████████▌                 | 256 kB 23.0 MB/s eta 0:00:01\r",
      "\u001b[K     |███████████████                 | 266 kB 23.0 MB/s eta 0:00:01\r",
      "\u001b[K     |███████████████▋                | 276 kB 23.0 MB/s eta 0:00:01\r",
      "\u001b[K     |████████████████▎               | 286 kB 23.0 MB/s eta 0:00:01\r",
      "\u001b[K     |████████████████▉               | 296 kB 23.0 MB/s eta 0:00:01\r",
      "\u001b[K     |█████████████████▍              | 307 kB 23.0 MB/s eta 0:00:01\r",
      "\u001b[K     |██████████████████              | 317 kB 23.0 MB/s eta 0:00:01\r",
      "\u001b[K     |██████████████████▋             | 327 kB 23.0 MB/s eta 0:00:01\r",
      "\u001b[K     |███████████████████▏            | 337 kB 23.0 MB/s eta 0:00:01\r",
      "\u001b[K     |███████████████████▊            | 348 kB 23.0 MB/s eta 0:00:01\r",
      "\u001b[K     |████████████████████▎           | 358 kB 23.0 MB/s eta 0:00:01\r",
      "\u001b[K     |████████████████████▉           | 368 kB 23.0 MB/s eta 0:00:01\r",
      "\u001b[K     |█████████████████████▌          | 378 kB 23.0 MB/s eta 0:00:01\r",
      "\u001b[K     |██████████████████████          | 389 kB 23.0 MB/s eta 0:00:01\r",
      "\u001b[K     |██████████████████████▋         | 399 kB 23.0 MB/s eta 0:00:01\r",
      "\u001b[K     |███████████████████████▏        | 409 kB 23.0 MB/s eta 0:00:01\r",
      "\u001b[K     |███████████████████████▉        | 419 kB 23.0 MB/s eta 0:00:01\r",
      "\u001b[K     |████████████████████████▍       | 430 kB 23.0 MB/s eta 0:00:01\r",
      "\u001b[K     |█████████████████████████       | 440 kB 23.0 MB/s eta 0:00:01\r",
      "\u001b[K     |█████████████████████████▌      | 450 kB 23.0 MB/s eta 0:00:01\r",
      "\u001b[K     |██████████████████████████      | 460 kB 23.0 MB/s eta 0:00:01\r",
      "\u001b[K     |██████████████████████████▊     | 471 kB 23.0 MB/s eta 0:00:01\r",
      "\u001b[K     |███████████████████████████▎    | 481 kB 23.0 MB/s eta 0:00:01\r",
      "\u001b[K     |███████████████████████████▉    | 491 kB 23.0 MB/s eta 0:00:01\r",
      "\u001b[K     |████████████████████████████▍   | 501 kB 23.0 MB/s eta 0:00:01\r",
      "\u001b[K     |█████████████████████████████   | 512 kB 23.0 MB/s eta 0:00:01\r",
      "\u001b[K     |█████████████████████████████▋  | 522 kB 23.0 MB/s eta 0:00:01\r",
      "\u001b[K     |██████████████████████████████▏ | 532 kB 23.0 MB/s eta 0:00:01\r",
      "\u001b[K     |██████████████████████████████▊ | 542 kB 23.0 MB/s eta 0:00:01\r",
      "\u001b[K     |███████████████████████████████▎| 552 kB 23.0 MB/s eta 0:00:01\r",
      "\u001b[K     |████████████████████████████████| 563 kB 23.0 MB/s eta 0:00:01\r",
      "\u001b[K     |████████████████████████████████| 564 kB 23.0 MB/s \n",
      "\u001b[?25hRequirement already satisfied: numba in /usr/local/lib/python3.7/dist-packages (from shap) (0.51.2)\n",
      "Requirement already satisfied: tqdm>4.25.0 in /usr/local/lib/python3.7/dist-packages (from shap) (4.62.3)\n",
      "Requirement already satisfied: pandas in /usr/local/lib/python3.7/dist-packages (from shap) (1.3.5)\n",
      "Requirement already satisfied: numpy in /usr/local/lib/python3.7/dist-packages (from shap) (1.21.5)\n",
      "Requirement already satisfied: scikit-learn in /usr/local/lib/python3.7/dist-packages (from shap) (1.0.2)\n",
      "Requirement already satisfied: packaging>20.9 in /usr/local/lib/python3.7/dist-packages (from shap) (21.3)\n",
      "Requirement already satisfied: scipy in /usr/local/lib/python3.7/dist-packages (from shap) (1.4.1)\n",
      "Collecting slicer==0.0.7\n",
      "  Downloading slicer-0.0.7-py3-none-any.whl (14 kB)\n",
      "Requirement already satisfied: cloudpickle in /usr/local/lib/python3.7/dist-packages (from shap) (1.3.0)\n",
      "Requirement already satisfied: pyparsing!=3.0.5,>=2.0.2 in /usr/local/lib/python3.7/dist-packages (from packaging>20.9->shap) (3.0.7)\n",
      "Requirement already satisfied: setuptools in /usr/local/lib/python3.7/dist-packages (from numba->shap) (57.4.0)\n",
      "Requirement already satisfied: llvmlite<0.35,>=0.34.0.dev0 in /usr/local/lib/python3.7/dist-packages (from numba->shap) (0.34.0)\n",
      "Requirement already satisfied: pytz>=2017.3 in /usr/local/lib/python3.7/dist-packages (from pandas->shap) (2018.9)\n",
      "Requirement already satisfied: python-dateutil>=2.7.3 in /usr/local/lib/python3.7/dist-packages (from pandas->shap) (2.8.2)\n",
      "Requirement already satisfied: six>=1.5 in /usr/local/lib/python3.7/dist-packages (from python-dateutil>=2.7.3->pandas->shap) (1.15.0)\n",
      "Requirement already satisfied: threadpoolctl>=2.0.0 in /usr/local/lib/python3.7/dist-packages (from scikit-learn->shap) (3.1.0)\n",
      "Requirement already satisfied: joblib>=0.11 in /usr/local/lib/python3.7/dist-packages (from scikit-learn->shap) (1.1.0)\n",
      "Installing collected packages: slicer, shap\n",
      "Successfully installed shap-0.40.0 slicer-0.0.7\n"
     ]
    }
   ],
   "source": [
    "import numpy as np\n",
    "import matplotlib.pyplot as plt\n",
    "import pandas as pd\n",
    "import sklearn\n",
    "import sklearn.multiclass as skmul\n",
    "import sklearn.metrics as skm\n",
    "import xgboost\n",
    "!pip install shap\n",
    "import shap"
   ]
  },
  {
   "cell_type": "code",
   "execution_count": 4,
   "metadata": {
    "colab": {
     "base_uri": "https://localhost:8080/"
    },
    "id": "cPyIXIDl6fLa",
    "outputId": "7accda4f-254b-4c52-e6ee-254e6d928d9b"
   },
   "outputs": [
    {
     "name": "stdout",
     "output_type": "stream",
     "text": [
      "Using matplotlib backend: agg\n"
     ]
    }
   ],
   "source": [
    "%matplotlib auto"
   ]
  },
  {
   "cell_type": "code",
   "execution_count": 7,
   "metadata": {
    "colab": {
     "base_uri": "https://localhost:8080/",
     "height": 73,
     "resources": {
      "http://localhost:8080/nbextensions/google.colab/files.js": {
       "data": "Ly8gQ29weXJpZ2h0IDIwMTcgR29vZ2xlIExMQwovLwovLyBMaWNlbnNlZCB1bmRlciB0aGUgQXBhY2hlIExpY2Vuc2UsIFZlcnNpb24gMi4wICh0aGUgIkxpY2Vuc2UiKTsKLy8geW91IG1heSBub3QgdXNlIHRoaXMgZmlsZSBleGNlcHQgaW4gY29tcGxpYW5jZSB3aXRoIHRoZSBMaWNlbnNlLgovLyBZb3UgbWF5IG9idGFpbiBhIGNvcHkgb2YgdGhlIExpY2Vuc2UgYXQKLy8KLy8gICAgICBodHRwOi8vd3d3LmFwYWNoZS5vcmcvbGljZW5zZXMvTElDRU5TRS0yLjAKLy8KLy8gVW5sZXNzIHJlcXVpcmVkIGJ5IGFwcGxpY2FibGUgbGF3IG9yIGFncmVlZCB0byBpbiB3cml0aW5nLCBzb2Z0d2FyZQovLyBkaXN0cmlidXRlZCB1bmRlciB0aGUgTGljZW5zZSBpcyBkaXN0cmlidXRlZCBvbiBhbiAiQVMgSVMiIEJBU0lTLAovLyBXSVRIT1VUIFdBUlJBTlRJRVMgT1IgQ09ORElUSU9OUyBPRiBBTlkgS0lORCwgZWl0aGVyIGV4cHJlc3Mgb3IgaW1wbGllZC4KLy8gU2VlIHRoZSBMaWNlbnNlIGZvciB0aGUgc3BlY2lmaWMgbGFuZ3VhZ2UgZ292ZXJuaW5nIHBlcm1pc3Npb25zIGFuZAovLyBsaW1pdGF0aW9ucyB1bmRlciB0aGUgTGljZW5zZS4KCi8qKgogKiBAZmlsZW92ZXJ2aWV3IEhlbHBlcnMgZm9yIGdvb2dsZS5jb2xhYiBQeXRob24gbW9kdWxlLgogKi8KKGZ1bmN0aW9uKHNjb3BlKSB7CmZ1bmN0aW9uIHNwYW4odGV4dCwgc3R5bGVBdHRyaWJ1dGVzID0ge30pIHsKICBjb25zdCBlbGVtZW50ID0gZG9jdW1lbnQuY3JlYXRlRWxlbWVudCgnc3BhbicpOwogIGVsZW1lbnQudGV4dENvbnRlbnQgPSB0ZXh0OwogIGZvciAoY29uc3Qga2V5IG9mIE9iamVjdC5rZXlzKHN0eWxlQXR0cmlidXRlcykpIHsKICAgIGVsZW1lbnQuc3R5bGVba2V5XSA9IHN0eWxlQXR0cmlidXRlc1trZXldOwogIH0KICByZXR1cm4gZWxlbWVudDsKfQoKLy8gTWF4IG51bWJlciBvZiBieXRlcyB3aGljaCB3aWxsIGJlIHVwbG9hZGVkIGF0IGEgdGltZS4KY29uc3QgTUFYX1BBWUxPQURfU0laRSA9IDEwMCAqIDEwMjQ7CgpmdW5jdGlvbiBfdXBsb2FkRmlsZXMoaW5wdXRJZCwgb3V0cHV0SWQpIHsKICBjb25zdCBzdGVwcyA9IHVwbG9hZEZpbGVzU3RlcChpbnB1dElkLCBvdXRwdXRJZCk7CiAgY29uc3Qgb3V0cHV0RWxlbWVudCA9IGRvY3VtZW50LmdldEVsZW1lbnRCeUlkKG91dHB1dElkKTsKICAvLyBDYWNoZSBzdGVwcyBvbiB0aGUgb3V0cHV0RWxlbWVudCB0byBtYWtlIGl0IGF2YWlsYWJsZSBmb3IgdGhlIG5leHQgY2FsbAogIC8vIHRvIHVwbG9hZEZpbGVzQ29udGludWUgZnJvbSBQeXRob24uCiAgb3V0cHV0RWxlbWVudC5zdGVwcyA9IHN0ZXBzOwoKICByZXR1cm4gX3VwbG9hZEZpbGVzQ29udGludWUob3V0cHV0SWQpOwp9CgovLyBUaGlzIGlzIHJvdWdobHkgYW4gYXN5bmMgZ2VuZXJhdG9yIChub3Qgc3VwcG9ydGVkIGluIHRoZSBicm93c2VyIHlldCksCi8vIHdoZXJlIHRoZXJlIGFyZSBtdWx0aXBsZSBhc3luY2hyb25vdXMgc3RlcHMgYW5kIHRoZSBQeXRob24gc2lkZSBpcyBnb2luZwovLyB0byBwb2xsIGZvciBjb21wbGV0aW9uIG9mIGVhY2ggc3RlcC4KLy8gVGhpcyB1c2VzIGEgUHJvbWlzZSB0byBibG9jayB0aGUgcHl0aG9uIHNpZGUgb24gY29tcGxldGlvbiBvZiBlYWNoIHN0ZXAsCi8vIHRoZW4gcGFzc2VzIHRoZSByZXN1bHQgb2YgdGhlIHByZXZpb3VzIHN0ZXAgYXMgdGhlIGlucHV0IHRvIHRoZSBuZXh0IHN0ZXAuCmZ1bmN0aW9uIF91cGxvYWRGaWxlc0NvbnRpbnVlKG91dHB1dElkKSB7CiAgY29uc3Qgb3V0cHV0RWxlbWVudCA9IGRvY3VtZW50LmdldEVsZW1lbnRCeUlkKG91dHB1dElkKTsKICBjb25zdCBzdGVwcyA9IG91dHB1dEVsZW1lbnQuc3RlcHM7CgogIGNvbnN0IG5leHQgPSBzdGVwcy5uZXh0KG91dHB1dEVsZW1lbnQubGFzdFByb21pc2VWYWx1ZSk7CiAgcmV0dXJuIFByb21pc2UucmVzb2x2ZShuZXh0LnZhbHVlLnByb21pc2UpLnRoZW4oKHZhbHVlKSA9PiB7CiAgICAvLyBDYWNoZSB0aGUgbGFzdCBwcm9taXNlIHZhbHVlIHRvIG1ha2UgaXQgYXZhaWxhYmxlIHRvIHRoZSBuZXh0CiAgICAvLyBzdGVwIG9mIHRoZSBnZW5lcmF0b3IuCiAgICBvdXRwdXRFbGVtZW50Lmxhc3RQcm9taXNlVmFsdWUgPSB2YWx1ZTsKICAgIHJldHVybiBuZXh0LnZhbHVlLnJlc3BvbnNlOwogIH0pOwp9CgovKioKICogR2VuZXJhdG9yIGZ1bmN0aW9uIHdoaWNoIGlzIGNhbGxlZCBiZXR3ZWVuIGVhY2ggYXN5bmMgc3RlcCBvZiB0aGUgdXBsb2FkCiAqIHByb2Nlc3MuCiAqIEBwYXJhbSB7c3RyaW5nfSBpbnB1dElkIEVsZW1lbnQgSUQgb2YgdGhlIGlucHV0IGZpbGUgcGlja2VyIGVsZW1lbnQuCiAqIEBwYXJhbSB7c3RyaW5nfSBvdXRwdXRJZCBFbGVtZW50IElEIG9mIHRoZSBvdXRwdXQgZGlzcGxheS4KICogQHJldHVybiB7IUl0ZXJhYmxlPCFPYmplY3Q+fSBJdGVyYWJsZSBvZiBuZXh0IHN0ZXBzLgogKi8KZnVuY3Rpb24qIHVwbG9hZEZpbGVzU3RlcChpbnB1dElkLCBvdXRwdXRJZCkgewogIGNvbnN0IGlucHV0RWxlbWVudCA9IGRvY3VtZW50LmdldEVsZW1lbnRCeUlkKGlucHV0SWQpOwogIGlucHV0RWxlbWVudC5kaXNhYmxlZCA9IGZhbHNlOwoKICBjb25zdCBvdXRwdXRFbGVtZW50ID0gZG9jdW1lbnQuZ2V0RWxlbWVudEJ5SWQob3V0cHV0SWQpOwogIG91dHB1dEVsZW1lbnQuaW5uZXJIVE1MID0gJyc7CgogIGNvbnN0IHBpY2tlZFByb21pc2UgPSBuZXcgUHJvbWlzZSgocmVzb2x2ZSkgPT4gewogICAgaW5wdXRFbGVtZW50LmFkZEV2ZW50TGlzdGVuZXIoJ2NoYW5nZScsIChlKSA9PiB7CiAgICAgIHJlc29sdmUoZS50YXJnZXQuZmlsZXMpOwogICAgfSk7CiAgfSk7CgogIGNvbnN0IGNhbmNlbCA9IGRvY3VtZW50LmNyZWF0ZUVsZW1lbnQoJ2J1dHRvbicpOwogIGlucHV0RWxlbWVudC5wYXJlbnRFbGVtZW50LmFwcGVuZENoaWxkKGNhbmNlbCk7CiAgY2FuY2VsLnRleHRDb250ZW50ID0gJ0NhbmNlbCB1cGxvYWQnOwogIGNvbnN0IGNhbmNlbFByb21pc2UgPSBuZXcgUHJvbWlzZSgocmVzb2x2ZSkgPT4gewogICAgY2FuY2VsLm9uY2xpY2sgPSAoKSA9PiB7CiAgICAgIHJlc29sdmUobnVsbCk7CiAgICB9OwogIH0pOwoKICAvLyBXYWl0IGZvciB0aGUgdXNlciB0byBwaWNrIHRoZSBmaWxlcy4KICBjb25zdCBmaWxlcyA9IHlpZWxkIHsKICAgIHByb21pc2U6IFByb21pc2UucmFjZShbcGlja2VkUHJvbWlzZSwgY2FuY2VsUHJvbWlzZV0pLAogICAgcmVzcG9uc2U6IHsKICAgICAgYWN0aW9uOiAnc3RhcnRpbmcnLAogICAgfQogIH07CgogIGNhbmNlbC5yZW1vdmUoKTsKCiAgLy8gRGlzYWJsZSB0aGUgaW5wdXQgZWxlbWVudCBzaW5jZSBmdXJ0aGVyIHBpY2tzIGFyZSBub3QgYWxsb3dlZC4KICBpbnB1dEVsZW1lbnQuZGlzYWJsZWQgPSB0cnVlOwoKICBpZiAoIWZpbGVzKSB7CiAgICByZXR1cm4gewogICAgICByZXNwb25zZTogewogICAgICAgIGFjdGlvbjogJ2NvbXBsZXRlJywKICAgICAgfQogICAgfTsKICB9CgogIGZvciAoY29uc3QgZmlsZSBvZiBmaWxlcykgewogICAgY29uc3QgbGkgPSBkb2N1bWVudC5jcmVhdGVFbGVtZW50KCdsaScpOwogICAgbGkuYXBwZW5kKHNwYW4oZmlsZS5uYW1lLCB7Zm9udFdlaWdodDogJ2JvbGQnfSkpOwogICAgbGkuYXBwZW5kKHNwYW4oCiAgICAgICAgYCgke2ZpbGUudHlwZSB8fCAnbi9hJ30pIC0gJHtmaWxlLnNpemV9IGJ5dGVzLCBgICsKICAgICAgICBgbGFzdCBtb2RpZmllZDogJHsKICAgICAgICAgICAgZmlsZS5sYXN0TW9kaWZpZWREYXRlID8gZmlsZS5sYXN0TW9kaWZpZWREYXRlLnRvTG9jYWxlRGF0ZVN0cmluZygpIDoKICAgICAgICAgICAgICAgICAgICAgICAgICAgICAgICAgICAgJ24vYSd9IC0gYCkpOwogICAgY29uc3QgcGVyY2VudCA9IHNwYW4oJzAlIGRvbmUnKTsKICAgIGxpLmFwcGVuZENoaWxkKHBlcmNlbnQpOwoKICAgIG91dHB1dEVsZW1lbnQuYXBwZW5kQ2hpbGQobGkpOwoKICAgIGNvbnN0IGZpbGVEYXRhUHJvbWlzZSA9IG5ldyBQcm9taXNlKChyZXNvbHZlKSA9PiB7CiAgICAgIGNvbnN0IHJlYWRlciA9IG5ldyBGaWxlUmVhZGVyKCk7CiAgICAgIHJlYWRlci5vbmxvYWQgPSAoZSkgPT4gewogICAgICAgIHJlc29sdmUoZS50YXJnZXQucmVzdWx0KTsKICAgICAgfTsKICAgICAgcmVhZGVyLnJlYWRBc0FycmF5QnVmZmVyKGZpbGUpOwogICAgfSk7CiAgICAvLyBXYWl0IGZvciB0aGUgZGF0YSB0byBiZSByZWFkeS4KICAgIGxldCBmaWxlRGF0YSA9IHlpZWxkIHsKICAgICAgcHJvbWlzZTogZmlsZURhdGFQcm9taXNlLAogICAgICByZXNwb25zZTogewogICAgICAgIGFjdGlvbjogJ2NvbnRpbnVlJywKICAgICAgfQogICAgfTsKCiAgICAvLyBVc2UgYSBjaHVua2VkIHNlbmRpbmcgdG8gYXZvaWQgbWVzc2FnZSBzaXplIGxpbWl0cy4gU2VlIGIvNjIxMTU2NjAuCiAgICBsZXQgcG9zaXRpb24gPSAwOwogICAgZG8gewogICAgICBjb25zdCBsZW5ndGggPSBNYXRoLm1pbihmaWxlRGF0YS5ieXRlTGVuZ3RoIC0gcG9zaXRpb24sIE1BWF9QQVlMT0FEX1NJWkUpOwogICAgICBjb25zdCBjaHVuayA9IG5ldyBVaW50OEFycmF5KGZpbGVEYXRhLCBwb3NpdGlvbiwgbGVuZ3RoKTsKICAgICAgcG9zaXRpb24gKz0gbGVuZ3RoOwoKICAgICAgY29uc3QgYmFzZTY0ID0gYnRvYShTdHJpbmcuZnJvbUNoYXJDb2RlLmFwcGx5KG51bGwsIGNodW5rKSk7CiAgICAgIHlpZWxkIHsKICAgICAgICByZXNwb25zZTogewogICAgICAgICAgYWN0aW9uOiAnYXBwZW5kJywKICAgICAgICAgIGZpbGU6IGZpbGUubmFtZSwKICAgICAgICAgIGRhdGE6IGJhc2U2NCwKICAgICAgICB9LAogICAgICB9OwoKICAgICAgbGV0IHBlcmNlbnREb25lID0gZmlsZURhdGEuYnl0ZUxlbmd0aCA9PT0gMCA/CiAgICAgICAgICAxMDAgOgogICAgICAgICAgTWF0aC5yb3VuZCgocG9zaXRpb24gLyBmaWxlRGF0YS5ieXRlTGVuZ3RoKSAqIDEwMCk7CiAgICAgIHBlcmNlbnQudGV4dENvbnRlbnQgPSBgJHtwZXJjZW50RG9uZX0lIGRvbmVgOwoKICAgIH0gd2hpbGUgKHBvc2l0aW9uIDwgZmlsZURhdGEuYnl0ZUxlbmd0aCk7CiAgfQoKICAvLyBBbGwgZG9uZS4KICB5aWVsZCB7CiAgICByZXNwb25zZTogewogICAgICBhY3Rpb246ICdjb21wbGV0ZScsCiAgICB9CiAgfTsKfQoKc2NvcGUuZ29vZ2xlID0gc2NvcGUuZ29vZ2xlIHx8IHt9OwpzY29wZS5nb29nbGUuY29sYWIgPSBzY29wZS5nb29nbGUuY29sYWIgfHwge307CnNjb3BlLmdvb2dsZS5jb2xhYi5fZmlsZXMgPSB7CiAgX3VwbG9hZEZpbGVzLAogIF91cGxvYWRGaWxlc0NvbnRpbnVlLAp9Owp9KShzZWxmKTsK",
       "headers": [
        [
         "content-type",
         "application/javascript"
        ]
       ],
       "ok": true,
       "status": 200,
       "status_text": ""
      }
     }
    },
    "id": "9GPCycyTi2Ea",
    "outputId": "2b4189ab-2283-4795-e690-771f219241ce"
   },
   "outputs": [
    {
     "data": {
      "text/html": [
       "\n",
       "     <input type=\"file\" id=\"files-173603e2-a25e-4df9-bc2a-7d1c2bb7f843\" name=\"files[]\" multiple disabled\n",
       "        style=\"border:none\" />\n",
       "     <output id=\"result-173603e2-a25e-4df9-bc2a-7d1c2bb7f843\">\n",
       "      Upload widget is only available when the cell has been executed in the\n",
       "      current browser session. Please rerun this cell to enable.\n",
       "      </output>\n",
       "      <script src=\"/nbextensions/google.colab/files.js\"></script> "
      ],
      "text/plain": [
       "<IPython.core.display.HTML object>"
      ]
     },
     "metadata": {},
     "output_type": "display_data"
    },
    {
     "name": "stdout",
     "output_type": "stream",
     "text": [
      "Saving data.txt to data.txt\n"
     ]
    }
   ],
   "source": [
    "# Importation des Données dans le Google Colab\n",
    "by_colab = True # Vrai si on execute via Google Colab\n",
    "if (by_colab):\n",
    "  from google.colab import files\n",
    "  files.upload()"
   ]
  },
  {
   "cell_type": "markdown",
   "metadata": {
    "id": "5UXKcYOO6fLc"
   },
   "source": [
    "# Training & Internal Validation"
   ]
  },
  {
   "cell_type": "code",
   "execution_count": 8,
   "metadata": {
    "id": "muGMf_AO6fLe"
   },
   "outputs": [],
   "source": [
    "def read_files(dataset):\n",
    "    if dataset == 'FvC':\n",
    "        dataset = '3Class'\n",
    "    # On demande le nom des fichiers que l'on a importés \n",
    "    if (by_colab):\n",
    "      file_train = input(\"Nom du fichier de train: \")\n",
    "      file_test = input(\"Nom du fichier de test: \")\n",
    "      train = pd.read_csv(f\"{file_train}\")\n",
    "      test = pd.read_csv(f\"{file_test}\")\n",
    "    # Comportement de base\n",
    "    else :\n",
    "      train = pd.read_csv(f\"../data/{dataset}_Train.csv\")\n",
    "      test = pd.read_csv(f\"../data/{dataset}_Test.csv\")\n",
    "    return train, test"
   ]
  },
  {
   "cell_type": "code",
   "execution_count": 9,
   "metadata": {
    "colab": {
     "base_uri": "https://localhost:8080/"
    },
    "id": "3DwrQajT6fLf",
    "outputId": "1652fe54-203d-420a-b90c-9fb99a81a0d2"
   },
   "outputs": [
    {
     "name": "stdout",
     "output_type": "stream",
     "text": [
      "Nom du fichier de traindata.txt\n",
      "Nom du fichier de testdata.txt\n"
     ]
    }
   ],
   "source": [
    "# Datasets: 3Class, CPosvCNeg, FvOthers, FvC\n",
    "from os import getcwd,listdir\n",
    "dataset = 'CPosvCNeg'\n",
    "train, test = read_files(dataset)\n",
    "if dataset == 'FvC':\n",
    "    train = train[train.Class != 2].reset_index(drop=True)\n",
    "    test = test[test.Class != 2].reset_index(drop=True)"
   ]
  },
  {
   "cell_type": "code",
   "execution_count": 10,
   "metadata": {
    "colab": {
     "base_uri": "https://localhost:8080/",
     "height": 206
    },
    "id": "EQMi0YL96fLg",
    "outputId": "239ed9d2-5f37-48f8-802e-416e1b387176"
   },
   "outputs": [
    {
     "data": {
      "text/html": [
       "\n",
       "  <div id=\"df-1f4d32b3-b6b9-4265-ab10-eff259525c65\">\n",
       "    <div class=\"colab-df-container\">\n",
       "      <div>\n",
       "<style scoped>\n",
       "    .dataframe tbody tr th:only-of-type {\n",
       "        vertical-align: middle;\n",
       "    }\n",
       "\n",
       "    .dataframe tbody tr th {\n",
       "        vertical-align: top;\n",
       "    }\n",
       "\n",
       "    .dataframe thead th {\n",
       "        text-align: right;\n",
       "    }\n",
       "</style>\n",
       "<table border=\"1\" class=\"dataframe\">\n",
       "  <thead>\n",
       "    <tr style=\"text-align: right;\">\n",
       "      <th></th>\n",
       "      <th>Time and date'</th>\n",
       "      <th>'ABPmean'</th>\n",
       "      <th>'ABPsys'</th>\n",
       "      <th>'ABPdias'</th>\n",
       "      <th>'C.O.'</th>\n",
       "      <th>'HR'</th>\n",
       "      <th>'PAPmean'</th>\n",
       "      <th>'PAPsys'</th>\n",
       "      <th>'PAPdias'</th>\n",
       "      <th>'PULSE'</th>\n",
       "      <th>'RESP'</th>\n",
       "      <th>'SpO2'</th>\n",
       "      <th>'Tblood'</th>\n",
       "      <th>'Class'</th>\n",
       "    </tr>\n",
       "  </thead>\n",
       "  <tbody>\n",
       "    <tr>\n",
       "      <th>0</th>\n",
       "      <td>'hh:mm:ss dd/mm/yyyy'</td>\n",
       "      <td>'mmHg'</td>\n",
       "      <td>'mmHg'</td>\n",
       "      <td>'mmHg'</td>\n",
       "      <td>'lpm'</td>\n",
       "      <td>'bpm'</td>\n",
       "      <td>'mmHg'</td>\n",
       "      <td>'mmHg'</td>\n",
       "      <td>'mmHg'</td>\n",
       "      <td>'bpm'</td>\n",
       "      <td>'bpm'</td>\n",
       "      <td>'%'</td>\n",
       "      <td>'degC'</td>\n",
       "      <td>'disease or non'</td>\n",
       "    </tr>\n",
       "    <tr>\n",
       "      <th>1</th>\n",
       "      <td>'[15:36:24 02/03/1995]'</td>\n",
       "      <td>89.000</td>\n",
       "      <td>114.000</td>\n",
       "      <td>78.000</td>\n",
       "      <td>4.120</td>\n",
       "      <td>80.000</td>\n",
       "      <td>27.000</td>\n",
       "      <td>34.000</td>\n",
       "      <td>22.000</td>\n",
       "      <td>100.000</td>\n",
       "      <td>15.000</td>\n",
       "      <td>100.000</td>\n",
       "      <td>37.100</td>\n",
       "      <td>0</td>\n",
       "    </tr>\n",
       "    <tr>\n",
       "      <th>2</th>\n",
       "      <td>'[15:41:25 02/03/1995]'</td>\n",
       "      <td>89.000</td>\n",
       "      <td>114.000</td>\n",
       "      <td>78.000</td>\n",
       "      <td>4.120</td>\n",
       "      <td>80.000</td>\n",
       "      <td>26.000</td>\n",
       "      <td>33.000</td>\n",
       "      <td>22.000</td>\n",
       "      <td>100.000</td>\n",
       "      <td>15.000</td>\n",
       "      <td>100.000</td>\n",
       "      <td>37.100</td>\n",
       "      <td>0</td>\n",
       "    </tr>\n",
       "    <tr>\n",
       "      <th>3</th>\n",
       "      <td>'[15:46:26 02/03/1995]'</td>\n",
       "      <td>89.000</td>\n",
       "      <td>113.000</td>\n",
       "      <td>78.000</td>\n",
       "      <td>4.120</td>\n",
       "      <td>85.000</td>\n",
       "      <td>25.000</td>\n",
       "      <td>32.000</td>\n",
       "      <td>21.000</td>\n",
       "      <td>101.000</td>\n",
       "      <td>15.000</td>\n",
       "      <td>100.000</td>\n",
       "      <td>37.100</td>\n",
       "      <td>0</td>\n",
       "    </tr>\n",
       "    <tr>\n",
       "      <th>4</th>\n",
       "      <td>'[15:51:27 02/03/1995]'</td>\n",
       "      <td>89.000</td>\n",
       "      <td>113.000</td>\n",
       "      <td>78.000</td>\n",
       "      <td>4.120</td>\n",
       "      <td>80.000</td>\n",
       "      <td>25.000</td>\n",
       "      <td>33.000</td>\n",
       "      <td>22.000</td>\n",
       "      <td>101.000</td>\n",
       "      <td>15.000</td>\n",
       "      <td>100.000</td>\n",
       "      <td>37.100</td>\n",
       "      <td>0</td>\n",
       "    </tr>\n",
       "  </tbody>\n",
       "</table>\n",
       "</div>\n",
       "      <button class=\"colab-df-convert\" onclick=\"convertToInteractive('df-1f4d32b3-b6b9-4265-ab10-eff259525c65')\"\n",
       "              title=\"Convert this dataframe to an interactive table.\"\n",
       "              style=\"display:none;\">\n",
       "        \n",
       "  <svg xmlns=\"http://www.w3.org/2000/svg\" height=\"24px\"viewBox=\"0 0 24 24\"\n",
       "       width=\"24px\">\n",
       "    <path d=\"M0 0h24v24H0V0z\" fill=\"none\"/>\n",
       "    <path d=\"M18.56 5.44l.94 2.06.94-2.06 2.06-.94-2.06-.94-.94-2.06-.94 2.06-2.06.94zm-11 1L8.5 8.5l.94-2.06 2.06-.94-2.06-.94L8.5 2.5l-.94 2.06-2.06.94zm10 10l.94 2.06.94-2.06 2.06-.94-2.06-.94-.94-2.06-.94 2.06-2.06.94z\"/><path d=\"M17.41 7.96l-1.37-1.37c-.4-.4-.92-.59-1.43-.59-.52 0-1.04.2-1.43.59L10.3 9.45l-7.72 7.72c-.78.78-.78 2.05 0 2.83L4 21.41c.39.39.9.59 1.41.59.51 0 1.02-.2 1.41-.59l7.78-7.78 2.81-2.81c.8-.78.8-2.07 0-2.86zM5.41 20L4 18.59l7.72-7.72 1.47 1.35L5.41 20z\"/>\n",
       "  </svg>\n",
       "      </button>\n",
       "      \n",
       "  <style>\n",
       "    .colab-df-container {\n",
       "      display:flex;\n",
       "      flex-wrap:wrap;\n",
       "      gap: 12px;\n",
       "    }\n",
       "\n",
       "    .colab-df-convert {\n",
       "      background-color: #E8F0FE;\n",
       "      border: none;\n",
       "      border-radius: 50%;\n",
       "      cursor: pointer;\n",
       "      display: none;\n",
       "      fill: #1967D2;\n",
       "      height: 32px;\n",
       "      padding: 0 0 0 0;\n",
       "      width: 32px;\n",
       "    }\n",
       "\n",
       "    .colab-df-convert:hover {\n",
       "      background-color: #E2EBFA;\n",
       "      box-shadow: 0px 1px 2px rgba(60, 64, 67, 0.3), 0px 1px 3px 1px rgba(60, 64, 67, 0.15);\n",
       "      fill: #174EA6;\n",
       "    }\n",
       "\n",
       "    [theme=dark] .colab-df-convert {\n",
       "      background-color: #3B4455;\n",
       "      fill: #D2E3FC;\n",
       "    }\n",
       "\n",
       "    [theme=dark] .colab-df-convert:hover {\n",
       "      background-color: #434B5C;\n",
       "      box-shadow: 0px 1px 3px 1px rgba(0, 0, 0, 0.15);\n",
       "      filter: drop-shadow(0px 1px 2px rgba(0, 0, 0, 0.3));\n",
       "      fill: #FFFFFF;\n",
       "    }\n",
       "  </style>\n",
       "\n",
       "      <script>\n",
       "        const buttonEl =\n",
       "          document.querySelector('#df-1f4d32b3-b6b9-4265-ab10-eff259525c65 button.colab-df-convert');\n",
       "        buttonEl.style.display =\n",
       "          google.colab.kernel.accessAllowed ? 'block' : 'none';\n",
       "\n",
       "        async function convertToInteractive(key) {\n",
       "          const element = document.querySelector('#df-1f4d32b3-b6b9-4265-ab10-eff259525c65');\n",
       "          const dataTable =\n",
       "            await google.colab.kernel.invokeFunction('convertToInteractive',\n",
       "                                                     [key], {});\n",
       "          if (!dataTable) return;\n",
       "\n",
       "          const docLinkHtml = 'Like what you see? Visit the ' +\n",
       "            '<a target=\"_blank\" href=https://colab.research.google.com/notebooks/data_table.ipynb>data table notebook</a>'\n",
       "            + ' to learn more about interactive tables.';\n",
       "          element.innerHTML = '';\n",
       "          dataTable['output_type'] = 'display_data';\n",
       "          await google.colab.output.renderOutput(dataTable, element);\n",
       "          const docLink = document.createElement('div');\n",
       "          docLink.innerHTML = docLinkHtml;\n",
       "          element.appendChild(docLink);\n",
       "        }\n",
       "      </script>\n",
       "    </div>\n",
       "  </div>\n",
       "  "
      ],
      "text/plain": [
       "            Time and date' 'ABPmean'  ... 'Tblood'           'Class'\n",
       "0    'hh:mm:ss dd/mm/yyyy'    'mmHg'  ...   'degC'  'disease or non'\n",
       "1  '[15:36:24 02/03/1995]'    89.000  ...   37.100                 0\n",
       "2  '[15:41:25 02/03/1995]'    89.000  ...   37.100                 0\n",
       "3  '[15:46:26 02/03/1995]'    89.000  ...   37.100                 0\n",
       "4  '[15:51:27 02/03/1995]'    89.000  ...   37.100                 0\n",
       "\n",
       "[5 rows x 14 columns]"
      ]
     },
     "execution_count": 10,
     "metadata": {},
     "output_type": "execute_result"
    }
   ],
   "source": [
    "train.head()"
   ]
  },
  {
   "cell_type": "code",
   "execution_count": null,
   "metadata": {
    "id": "oikmp7SH6fLh"
   },
   "outputs": [],
   "source": [
    "test.head()"
   ]
  },
  {
   "cell_type": "code",
   "execution_count": null,
   "metadata": {
    "id": "0RA5WKf66fLi"
   },
   "outputs": [],
   "source": [
    "train.Class.value_counts()"
   ]
  },
  {
   "cell_type": "code",
   "execution_count": null,
   "metadata": {
    "id": "47Xh3luE6fLi"
   },
   "outputs": [],
   "source": [
    "test.Class.value_counts()"
   ]
  },
  {
   "cell_type": "code",
   "execution_count": null,
   "metadata": {
    "id": "5ETV1Zo16fLj"
   },
   "outputs": [],
   "source": [
    "columns = [\n",
    "            'sex_F', 'race_White', 'race_AA', 'race_Other',\n",
    "            'ethnicity_Hispanic_YN', 'Age', 'patient_class',\n",
    "            'encounter_type', 'reason_for_visit', 'SBP', 'DBP',\n",
    "            'Temp_C', 'HR', 'RR', 'SPO2', 'BMI', 'BSA', 'Month',\n",
    "            'Class'\n",
    "          ]"
   ]
  },
  {
   "cell_type": "code",
   "execution_count": null,
   "metadata": {
    "id": "kdiSSNAJ6fLk"
   },
   "outputs": [],
   "source": [
    "train = train[columns]\n",
    "test = test[columns]"
   ]
  },
  {
   "cell_type": "markdown",
   "metadata": {
    "id": "NqR9yIYy6fLk"
   },
   "source": [
    "# 3Class"
   ]
  },
  {
   "cell_type": "code",
   "execution_count": null,
   "metadata": {
    "id": "s8NZorWp6fLl"
   },
   "outputs": [],
   "source": [
    "model = xgboost.XGBClassifier()\n",
    "model.fit(train.drop('Class', axis=1), train['Class'])"
   ]
  },
  {
   "cell_type": "code",
   "execution_count": null,
   "metadata": {
    "id": "6LgU6URU6fLm"
   },
   "outputs": [],
   "source": [
    "print(skm.classification_report(test['Class'], model.predict(test.drop('Class', axis=1))))"
   ]
  },
  {
   "cell_type": "code",
   "execution_count": null,
   "metadata": {
    "id": "FhN_BbiB6fLn"
   },
   "outputs": [],
   "source": [
    "skm.confusion_matrix(test['Class'], model.predict(test.drop('Class', axis=1)))"
   ]
  },
  {
   "cell_type": "code",
   "execution_count": null,
   "metadata": {
    "id": "ntfJke136fLo"
   },
   "outputs": [],
   "source": [
    "skm.plot_confusion_matrix(model, test.drop('Class', axis=1), test['Class'], values_format='d')"
   ]
  },
  {
   "cell_type": "code",
   "execution_count": null,
   "metadata": {
    "id": "C6EG0g3g6fLo"
   },
   "outputs": [],
   "source": [
    "clf = skmul.OneVsRestClassifier(xgboost.XGBClassifier())\n",
    "y_score = clf.fit(train.drop('Class', axis=1), train['Class']).predict_proba(test.drop('Class', axis=1))"
   ]
  },
  {
   "cell_type": "code",
   "execution_count": null,
   "metadata": {
    "id": "Z3gG2nOw6fLp"
   },
   "outputs": [],
   "source": [
    "fpr = dict()\n",
    "tpr = dict()\n",
    "roc_auc = dict()\n",
    "for i in range(3):\n",
    "    fpr[i], tpr[i], _ = skm.roc_curve((test['Class'] == i).astype(int), y_score[:, i])\n",
    "    roc_auc[i] = skm.auc(fpr[i], tpr[i])"
   ]
  },
  {
   "cell_type": "code",
   "execution_count": null,
   "metadata": {
    "id": "z7SxfeD16fLp"
   },
   "outputs": [],
   "source": [
    "plt.figure(figsize=(8, 6))\n",
    "for i in range(3):\n",
    "    plt.plot(fpr[i], tpr[i], label=f'Class {i} (AUC = %0.3f)' % roc_auc[i])\n",
    "    plt.plot([0, 1], [0, 1], 'k--')\n",
    "    plt.title('ROC curve')\n",
    "    plt.xlabel('False positive rate')\n",
    "    plt.ylabel('True positive rate')\n",
    "    plt.legend(loc='best')\n",
    "plt.show()"
   ]
  },
  {
   "cell_type": "code",
   "execution_count": null,
   "metadata": {
    "id": "DoEz7Zxh6fLp"
   },
   "outputs": [],
   "source": [
    "skm.roc_auc_score(test['Class'], model.predict_proba(test.drop('Class', axis=1)), multi_class='ovr', average='macro')"
   ]
  },
  {
   "cell_type": "code",
   "execution_count": null,
   "metadata": {
    "id": "lJNm9Y1f6fLq"
   },
   "outputs": [],
   "source": [
    "shap.initjs()\n",
    "explainer = shap.TreeExplainer(model)\n",
    "shap_values = explainer.shap_values(test.drop('Class', axis=1))\n",
    "shap.summary_plot(shap_values, test.drop('Class', axis=1))"
   ]
  },
  {
   "cell_type": "markdown",
   "metadata": {
    "id": "lF4rG6NI6fLq"
   },
   "source": [
    "# CPosvCNeg"
   ]
  },
  {
   "cell_type": "code",
   "execution_count": null,
   "metadata": {
    "id": "HkTarYrl6fLq"
   },
   "outputs": [],
   "source": [
    "model = xgboost.XGBClassifier(random_state=1, learning_rate=0.02, max_depth=4, min_child_weight=1, gamma=1,\n",
    "                              colsample_bytree=1.0, subsample=0.8, n_estimators=600, objective='binary:logistic')\n",
    "model.fit(train.drop('Class', axis=1), train['Class'],\n",
    "          sample_weight=sklearn.utils.class_weight.compute_sample_weight(\"balanced\", train['Class']))"
   ]
  },
  {
   "cell_type": "code",
   "execution_count": null,
   "metadata": {
    "id": "6ODcpFav6fLr"
   },
   "outputs": [],
   "source": [
    "print(skm.classification_report(test['Class'], model.predict(test.drop('Class', axis=1))))"
   ]
  },
  {
   "cell_type": "code",
   "execution_count": null,
   "metadata": {
    "id": "S5HWfhLq6fLr"
   },
   "outputs": [],
   "source": [
    "skm.confusion_matrix(test['Class'], model.predict(test.drop('Class', axis=1)))"
   ]
  },
  {
   "cell_type": "code",
   "execution_count": null,
   "metadata": {
    "id": "iEHZCEDh6fLr"
   },
   "outputs": [],
   "source": [
    "skm.plot_confusion_matrix(model, test.drop('Class', axis=1), test['Class'], values_format='d')"
   ]
  },
  {
   "cell_type": "code",
   "execution_count": null,
   "metadata": {
    "id": "sK6y4E3j6fLr"
   },
   "outputs": [],
   "source": [
    "skm.plot_roc_curve(model, test.drop('Class', axis=1), test['Class'])"
   ]
  },
  {
   "cell_type": "code",
   "execution_count": null,
   "metadata": {
    "id": "UHhosPRC6fLr"
   },
   "outputs": [],
   "source": [
    "shap.initjs()\n",
    "explainer = shap.TreeExplainer(model)\n",
    "shap_values = explainer.shap_values(test.drop('Class', axis=1))\n",
    "shap.summary_plot(shap_values, test.drop('Class', axis=1))"
   ]
  },
  {
   "cell_type": "code",
   "execution_count": null,
   "metadata": {
    "id": "_IW9T57Q6fLs"
   },
   "outputs": [],
   "source": [
    "shap.initjs()\n",
    "# Index of sample to explain individual prediction\n",
    "k = 100\n",
    "print('Label: ', test.loc[k, 'Class'])\n",
    "explainer = shap.TreeExplainer(model)\n",
    "shap_values = explainer.shap_values(test.drop('Class', axis=1).iloc[k, :])\n",
    "shap.force_plot(explainer.expected_value, shap_values, test.drop('Class', axis=1).iloc[k, :])"
   ]
  },
  {
   "cell_type": "markdown",
   "metadata": {
    "id": "rNjjs4E16fLs"
   },
   "source": [
    "# FvOthers"
   ]
  },
  {
   "cell_type": "code",
   "execution_count": null,
   "metadata": {
    "id": "fcN5ysPu6fLs"
   },
   "outputs": [],
   "source": [
    "model = xgboost.XGBClassifier(random_state=1, learning_rate=0.02, max_depth=4, min_child_weight=1, gamma=1,\n",
    "                              colsample_bytree=1.0, subsample=0.8, n_estimators=600, objective='binary:logistic')\n",
    "model.fit(train.drop('Class', axis=1), train['Class'],\n",
    "          sample_weight=sklearn.utils.class_weight.compute_sample_weight(\"balanced\", train['Class']))"
   ]
  },
  {
   "cell_type": "code",
   "execution_count": null,
   "metadata": {
    "id": "Ir_NG7qZ6fLt"
   },
   "outputs": [],
   "source": [
    "print(skm.classification_report(test['Class'], model.predict(test.drop('Class', axis=1))))"
   ]
  },
  {
   "cell_type": "code",
   "execution_count": null,
   "metadata": {
    "id": "0PoDgfZk6fLt"
   },
   "outputs": [],
   "source": [
    "skm.confusion_matrix(test['Class'], model.predict(test.drop('Class', axis=1)))"
   ]
  },
  {
   "cell_type": "code",
   "execution_count": null,
   "metadata": {
    "id": "X9mEMeMK6fLt"
   },
   "outputs": [],
   "source": [
    "skm.plot_confusion_matrix(model, test.drop('Class', axis=1), test['Class'], values_format='d')"
   ]
  },
  {
   "cell_type": "code",
   "execution_count": null,
   "metadata": {
    "id": "twE4OlHM6fLt"
   },
   "outputs": [],
   "source": [
    "skm.plot_roc_curve(model, test.drop('Class', axis=1), test['Class'])"
   ]
  },
  {
   "cell_type": "code",
   "execution_count": null,
   "metadata": {
    "id": "Vr_nb6Z96fLu"
   },
   "outputs": [],
   "source": [
    "shap.initjs()\n",
    "explainer = shap.TreeExplainer(model)\n",
    "shap_values = explainer.shap_values(test.drop('Class', axis=1))\n",
    "shap.summary_plot(shap_values, test.drop('Class', axis=1))"
   ]
  },
  {
   "cell_type": "code",
   "execution_count": null,
   "metadata": {
    "id": "RWdtRnQQ6fLu"
   },
   "outputs": [],
   "source": [
    "shap.initjs()\n",
    "# Index of sample to explain individual prediction\n",
    "k = 100\n",
    "print('Label: ', test.loc[k, 'Class'])\n",
    "explainer = shap.TreeExplainer(model)\n",
    "shap_values = explainer.shap_values(test.drop('Class', axis=1).iloc[k, :])\n",
    "shap.force_plot(explainer.expected_value, shap_values, test.drop('Class', axis=1).iloc[k, :])"
   ]
  },
  {
   "cell_type": "markdown",
   "metadata": {
    "id": "NCahJQ2P6fLu"
   },
   "source": [
    "# CvF"
   ]
  },
  {
   "cell_type": "code",
   "execution_count": null,
   "metadata": {
    "id": "9nKwknBU6fLu"
   },
   "outputs": [],
   "source": [
    "model = xgboost.XGBClassifier(random_state=1,learning_rate=0.02, max_depth=4, min_child_weight=1, gamma=1,\n",
    "                              colsample_bytree=1.0, subsample=0.8, n_estimators=600, objective='binary:logistic')\n",
    "model.fit(train.drop('Class', axis=1), train['Class'],\n",
    "          sample_weight=sklearn.utils.class_weight.compute_sample_weight(\"balanced\", train['Class']))"
   ]
  },
  {
   "cell_type": "code",
   "execution_count": null,
   "metadata": {
    "id": "mowRrHnz6fLv"
   },
   "outputs": [],
   "source": [
    "print(skm.classification_report(test['Class'], model.predict(test.drop('Class', axis=1))))"
   ]
  },
  {
   "cell_type": "code",
   "execution_count": null,
   "metadata": {
    "id": "Dt3KZchA6fLv"
   },
   "outputs": [],
   "source": [
    "skm.confusion_matrix(test['Class'], model.predict(test.drop('Class', axis=1)))"
   ]
  },
  {
   "cell_type": "code",
   "execution_count": null,
   "metadata": {
    "id": "SB4Ntg6t6fLv"
   },
   "outputs": [],
   "source": [
    "skm.plot_confusion_matrix(model, test.drop('Class', axis=1), test['Class'], values_format='d')"
   ]
  },
  {
   "cell_type": "code",
   "execution_count": null,
   "metadata": {
    "id": "IDCqRuaU6fLv"
   },
   "outputs": [],
   "source": [
    "skm.plot_roc_curve(model, test.drop('Class', axis=1), test['Class'])"
   ]
  },
  {
   "cell_type": "code",
   "execution_count": null,
   "metadata": {
    "id": "66t7X7w76fLv"
   },
   "outputs": [],
   "source": [
    "shap.initjs()\n",
    "explainer = shap.TreeExplainer(model)\n",
    "shap_values = explainer.shap_values(test.drop('Class', axis=1))\n",
    "shap.summary_plot(shap_values, test.drop('Class', axis=1))"
   ]
  },
  {
   "cell_type": "code",
   "execution_count": null,
   "metadata": {
    "id": "sbZPpG_U6fLv"
   },
   "outputs": [],
   "source": [
    "shap.initjs()\n",
    "# Index of sample to explain individual prediction\n",
    "k = 100\n",
    "print('Label: ', test.loc[k, 'Class'])\n",
    "explainer = shap.TreeExplainer(model)\n",
    "shap_values = explainer.shap_values(test.drop('Class', axis=1).iloc[k, :])\n",
    "shap.force_plot(explainer.expected_value, shap_values, test.drop('Class', axis=1).iloc[k, :])"
   ]
  },
  {
   "cell_type": "markdown",
   "metadata": {
    "id": "JSOrlUXr6fLv"
   },
   "source": [
    "# External Validation"
   ]
  },
  {
   "cell_type": "code",
   "execution_count": 1,
   "metadata": {
    "colab": {
     "base_uri": "https://localhost:8080/",
     "height": 184
    },
    "id": "DBBgGFCG6fLw",
    "outputId": "62f99a97-31ac-4936-8424-7140e5055f34"
   },
   "outputs": [
    {
     "ename": "NameError",
     "evalue": "ignored",
     "output_type": "error",
     "traceback": [
      "\u001b[0;31m---------------------------------------------------------------------------\u001b[0m",
      "\u001b[0;31mNameError\u001b[0m                                 Traceback (most recent call last)",
      "\u001b[0;32m<ipython-input-1-ec00563d558e>\u001b[0m in \u001b[0;36m<module>\u001b[0;34m()\u001b[0m\n\u001b[1;32m      1\u001b[0m \u001b[0mdataset\u001b[0m \u001b[0;34m=\u001b[0m \u001b[0;34m\"FvC_Sample\"\u001b[0m\u001b[0;34m\u001b[0m\u001b[0;34m\u001b[0m\u001b[0m\n\u001b[0;32m----> 2\u001b[0;31m \u001b[0mdf\u001b[0m \u001b[0;34m=\u001b[0m \u001b[0mpd\u001b[0m\u001b[0;34m.\u001b[0m\u001b[0mread_csv\u001b[0m\u001b[0;34m(\u001b[0m\u001b[0;34mf\"../data/{dataset}_External_Validation.csv\"\u001b[0m\u001b[0;34m)\u001b[0m\u001b[0;34m\u001b[0m\u001b[0;34m\u001b[0m\u001b[0m\n\u001b[0m",
      "\u001b[0;31mNameError\u001b[0m: name 'pd' is not defined"
     ]
    }
   ],
   "source": [
    "dataset = \"FvC_Sample\"\n",
    "df = pd.read_csv(f\"../data/{dataset}_External_Validation.csv\")"
   ]
  },
  {
   "cell_type": "code",
   "execution_count": null,
   "metadata": {
    "id": "Wq-XU3tt6fLw"
   },
   "outputs": [],
   "source": [
    "df = df[columns]"
   ]
  },
  {
   "cell_type": "code",
   "execution_count": null,
   "metadata": {
    "id": "W-s7M3rb6fLw"
   },
   "outputs": [],
   "source": [
    "df.Class.value_counts()"
   ]
  },
  {
   "cell_type": "code",
   "execution_count": null,
   "metadata": {
    "id": "yhxO2KSB6fLw"
   },
   "outputs": [],
   "source": [
    "skm.classification_report(df['Class'], model.predict(df.drop('Class', axis=1)))"
   ]
  },
  {
   "cell_type": "code",
   "execution_count": null,
   "metadata": {
    "id": "i0sEMcvo6fLw"
   },
   "outputs": [],
   "source": [
    "skm.confusion_matrix(df['Class'], model.predict(df.drop('Class', axis=1)))"
   ]
  },
  {
   "cell_type": "code",
   "execution_count": null,
   "metadata": {
    "id": "whVjnY8h6fLx"
   },
   "outputs": [],
   "source": [
    "skm.plot_confusion_matrix(model, df.drop('Class', axis=1), df['Class'])"
   ]
  }
 ],
 "metadata": {
  "colab": {
   "collapsed_sections": [
    "lF4rG6NI6fLq",
    "rNjjs4E16fLs",
    "NCahJQ2P6fLu"
   ],
   "name": "Classifiers.ipynb",
   "provenance": []
  },
  "kernelspec": {
   "display_name": "Python 3 (ipykernel)",
   "language": "python",
   "name": "python3"
  },
  "language_info": {
   "codemirror_mode": {
    "name": "ipython",
    "version": 3
   },
   "file_extension": ".py",
   "mimetype": "text/x-python",
   "name": "python",
   "nbconvert_exporter": "python",
   "pygments_lexer": "ipython3",
   "version": "3.8.12"
  }
 },
 "nbformat": 4,
 "nbformat_minor": 1
}
